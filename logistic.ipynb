{
 "cells": [
  {
   "cell_type": "code",
   "execution_count": 1,
   "metadata": {},
   "outputs": [],
   "source": [
    "import numpy as np\n",
    "import pandas as pd\n",
    "import matplotlib.pyplot as plt\n",
    "from sklearn.linear_model import LogisticRegression, LinearRegression\n",
    "from sklearn.model_selection import train_test_split\n",
    "from scipy.special import expit"
   ]
  },
  {
   "cell_type": "code",
   "execution_count": 18,
   "metadata": {},
   "outputs": [],
   "source": [
    "import statsmodels.api as sm\n",
    "import warnings"
   ]
  },
  {
   "cell_type": "code",
   "execution_count": 2,
   "metadata": {},
   "outputs": [],
   "source": [
    "def read_csv_into_df(file_path):\n",
    "    df = pd.read_csv(file_path)\n",
    "    return df"
   ]
  },
  {
   "cell_type": "code",
   "execution_count": 4,
   "metadata": {},
   "outputs": [
    {
     "name": "stdout",
     "output_type": "stream",
     "text": [
      "/Users/lisimanhua/Documents/stanford/2022 Spring/CS229/project/updated train and validation data\n"
     ]
    }
   ],
   "source": [
    "%cd /Users/lisimanhua/Documents/stanford/2022 Spring/CS229/project/updated train and validation data"
   ]
  },
  {
   "cell_type": "code",
   "execution_count": 5,
   "metadata": {},
   "outputs": [
    {
     "data": {
      "text/html": [
       "<div>\n",
       "<style scoped>\n",
       "    .dataframe tbody tr th:only-of-type {\n",
       "        vertical-align: middle;\n",
       "    }\n",
       "\n",
       "    .dataframe tbody tr th {\n",
       "        vertical-align: top;\n",
       "    }\n",
       "\n",
       "    .dataframe thead th {\n",
       "        text-align: right;\n",
       "    }\n",
       "</style>\n",
       "<table border=\"1\" class=\"dataframe\">\n",
       "  <thead>\n",
       "    <tr style=\"text-align: right;\">\n",
       "      <th></th>\n",
       "      <th>Unnamed: 0</th>\n",
       "      <th>Unnamed: 0_x</th>\n",
       "      <th>t_dat</th>\n",
       "      <th>customer_id</th>\n",
       "      <th>article_id</th>\n",
       "      <th>price</th>\n",
       "      <th>sales_channel_id</th>\n",
       "      <th>week</th>\n",
       "      <th>purchased</th>\n",
       "      <th>bestseller_rank</th>\n",
       "      <th>...</th>\n",
       "      <th>garment_group_no</th>\n",
       "      <th>garment_group_name</th>\n",
       "      <th>detail_desc</th>\n",
       "      <th>Unnamed: 0.1</th>\n",
       "      <th>FN</th>\n",
       "      <th>Active</th>\n",
       "      <th>club_member_status</th>\n",
       "      <th>fashion_news_frequency</th>\n",
       "      <th>age</th>\n",
       "      <th>postal_code</th>\n",
       "    </tr>\n",
       "  </thead>\n",
       "  <tbody>\n",
       "    <tr>\n",
       "      <th>0</th>\n",
       "      <td>0</td>\n",
       "      <td>29314980</td>\n",
       "      <td>2020-07-22</td>\n",
       "      <td>0000c97821eb48d0e590fd309133f0a6c08f7750f64ccc...</td>\n",
       "      <td>778064038</td>\n",
       "      <td>0.008458</td>\n",
       "      <td>2</td>\n",
       "      <td>96</td>\n",
       "      <td>1.0</td>\n",
       "      <td>999.0</td>\n",
       "      <td>...</td>\n",
       "      <td>1002</td>\n",
       "      <td>2</td>\n",
       "      <td>309</td>\n",
       "      <td>18</td>\n",
       "      <td>-1</td>\n",
       "      <td>-1</td>\n",
       "      <td>0</td>\n",
       "      <td>0</td>\n",
       "      <td>49</td>\n",
       "      <td>40775</td>\n",
       "    </tr>\n",
       "    <tr>\n",
       "      <th>1</th>\n",
       "      <td>1</td>\n",
       "      <td>29314981</td>\n",
       "      <td>2020-07-22</td>\n",
       "      <td>0000c97821eb48d0e590fd309133f0a6c08f7750f64ccc...</td>\n",
       "      <td>817166007</td>\n",
       "      <td>0.006763</td>\n",
       "      <td>2</td>\n",
       "      <td>96</td>\n",
       "      <td>1.0</td>\n",
       "      <td>999.0</td>\n",
       "      <td>...</td>\n",
       "      <td>1005</td>\n",
       "      <td>0</td>\n",
       "      <td>4647</td>\n",
       "      <td>18</td>\n",
       "      <td>-1</td>\n",
       "      <td>-1</td>\n",
       "      <td>0</td>\n",
       "      <td>0</td>\n",
       "      <td>49</td>\n",
       "      <td>40775</td>\n",
       "    </tr>\n",
       "    <tr>\n",
       "      <th>2</th>\n",
       "      <td>2</td>\n",
       "      <td>29314982</td>\n",
       "      <td>2020-07-22</td>\n",
       "      <td>0000c97821eb48d0e590fd309133f0a6c08f7750f64ccc...</td>\n",
       "      <td>840360002</td>\n",
       "      <td>0.008458</td>\n",
       "      <td>2</td>\n",
       "      <td>96</td>\n",
       "      <td>1.0</td>\n",
       "      <td>999.0</td>\n",
       "      <td>...</td>\n",
       "      <td>1005</td>\n",
       "      <td>0</td>\n",
       "      <td>3324</td>\n",
       "      <td>18</td>\n",
       "      <td>-1</td>\n",
       "      <td>-1</td>\n",
       "      <td>0</td>\n",
       "      <td>0</td>\n",
       "      <td>49</td>\n",
       "      <td>40775</td>\n",
       "    </tr>\n",
       "    <tr>\n",
       "      <th>3</th>\n",
       "      <td>3</td>\n",
       "      <td>29314983</td>\n",
       "      <td>2020-07-22</td>\n",
       "      <td>0000c97821eb48d0e590fd309133f0a6c08f7750f64ccc...</td>\n",
       "      <td>817166003</td>\n",
       "      <td>0.008458</td>\n",
       "      <td>2</td>\n",
       "      <td>96</td>\n",
       "      <td>1.0</td>\n",
       "      <td>999.0</td>\n",
       "      <td>...</td>\n",
       "      <td>1005</td>\n",
       "      <td>0</td>\n",
       "      <td>4647</td>\n",
       "      <td>18</td>\n",
       "      <td>-1</td>\n",
       "      <td>-1</td>\n",
       "      <td>0</td>\n",
       "      <td>0</td>\n",
       "      <td>49</td>\n",
       "      <td>40775</td>\n",
       "    </tr>\n",
       "    <tr>\n",
       "      <th>4</th>\n",
       "      <td>4</td>\n",
       "      <td>29314980</td>\n",
       "      <td>2020-07-22</td>\n",
       "      <td>0000c97821eb48d0e590fd309133f0a6c08f7750f64ccc...</td>\n",
       "      <td>760084003</td>\n",
       "      <td>0.025094</td>\n",
       "      <td>2</td>\n",
       "      <td>96</td>\n",
       "      <td>0.0</td>\n",
       "      <td>1.0</td>\n",
       "      <td>...</td>\n",
       "      <td>1009</td>\n",
       "      <td>5</td>\n",
       "      <td>847</td>\n",
       "      <td>18</td>\n",
       "      <td>-1</td>\n",
       "      <td>-1</td>\n",
       "      <td>0</td>\n",
       "      <td>0</td>\n",
       "      <td>49</td>\n",
       "      <td>40775</td>\n",
       "    </tr>\n",
       "    <tr>\n",
       "      <th>...</th>\n",
       "      <td>...</td>\n",
       "      <td>...</td>\n",
       "      <td>...</td>\n",
       "      <td>...</td>\n",
       "      <td>...</td>\n",
       "      <td>...</td>\n",
       "      <td>...</td>\n",
       "      <td>...</td>\n",
       "      <td>...</td>\n",
       "      <td>...</td>\n",
       "      <td>...</td>\n",
       "      <td>...</td>\n",
       "      <td>...</td>\n",
       "      <td>...</td>\n",
       "      <td>...</td>\n",
       "      <td>...</td>\n",
       "      <td>...</td>\n",
       "      <td>...</td>\n",
       "      <td>...</td>\n",
       "      <td>...</td>\n",
       "      <td>...</td>\n",
       "    </tr>\n",
       "    <tr>\n",
       "      <th>10205047</th>\n",
       "      <td>10205047</td>\n",
       "      <td>31334397</td>\n",
       "      <td>2020-09-09</td>\n",
       "      <td>ffffcf35913a0bee60e8741cb2b4e78b8a98ee5ff2e6a1...</td>\n",
       "      <td>863595006</td>\n",
       "      <td>0.033025</td>\n",
       "      <td>1</td>\n",
       "      <td>103</td>\n",
       "      <td>0.0</td>\n",
       "      <td>8.0</td>\n",
       "      <td>...</td>\n",
       "      <td>1003</td>\n",
       "      <td>3</td>\n",
       "      <td>1496</td>\n",
       "      <td>1371977</td>\n",
       "      <td>1</td>\n",
       "      <td>1</td>\n",
       "      <td>0</td>\n",
       "      <td>1</td>\n",
       "      <td>21</td>\n",
       "      <td>106737</td>\n",
       "    </tr>\n",
       "    <tr>\n",
       "      <th>10205048</th>\n",
       "      <td>10205048</td>\n",
       "      <td>31334397</td>\n",
       "      <td>2020-09-09</td>\n",
       "      <td>ffffcf35913a0bee60e8741cb2b4e78b8a98ee5ff2e6a1...</td>\n",
       "      <td>896152002</td>\n",
       "      <td>0.033064</td>\n",
       "      <td>1</td>\n",
       "      <td>103</td>\n",
       "      <td>0.0</td>\n",
       "      <td>9.0</td>\n",
       "      <td>...</td>\n",
       "      <td>1003</td>\n",
       "      <td>3</td>\n",
       "      <td>9447</td>\n",
       "      <td>1371977</td>\n",
       "      <td>1</td>\n",
       "      <td>1</td>\n",
       "      <td>0</td>\n",
       "      <td>1</td>\n",
       "      <td>21</td>\n",
       "      <td>106737</td>\n",
       "    </tr>\n",
       "    <tr>\n",
       "      <th>10205049</th>\n",
       "      <td>10205049</td>\n",
       "      <td>31334397</td>\n",
       "      <td>2020-09-09</td>\n",
       "      <td>ffffcf35913a0bee60e8741cb2b4e78b8a98ee5ff2e6a1...</td>\n",
       "      <td>448509014</td>\n",
       "      <td>0.041407</td>\n",
       "      <td>1</td>\n",
       "      <td>103</td>\n",
       "      <td>0.0</td>\n",
       "      <td>10.0</td>\n",
       "      <td>...</td>\n",
       "      <td>1009</td>\n",
       "      <td>5</td>\n",
       "      <td>255</td>\n",
       "      <td>1371977</td>\n",
       "      <td>1</td>\n",
       "      <td>1</td>\n",
       "      <td>0</td>\n",
       "      <td>1</td>\n",
       "      <td>21</td>\n",
       "      <td>106737</td>\n",
       "    </tr>\n",
       "    <tr>\n",
       "      <th>10205050</th>\n",
       "      <td>10205050</td>\n",
       "      <td>31334397</td>\n",
       "      <td>2020-09-09</td>\n",
       "      <td>ffffcf35913a0bee60e8741cb2b4e78b8a98ee5ff2e6a1...</td>\n",
       "      <td>909916001</td>\n",
       "      <td>0.033403</td>\n",
       "      <td>1</td>\n",
       "      <td>103</td>\n",
       "      <td>0.0</td>\n",
       "      <td>11.0</td>\n",
       "      <td>...</td>\n",
       "      <td>1017</td>\n",
       "      <td>4</td>\n",
       "      <td>12143</td>\n",
       "      <td>1371977</td>\n",
       "      <td>1</td>\n",
       "      <td>1</td>\n",
       "      <td>0</td>\n",
       "      <td>1</td>\n",
       "      <td>21</td>\n",
       "      <td>106737</td>\n",
       "    </tr>\n",
       "    <tr>\n",
       "      <th>10205051</th>\n",
       "      <td>10205051</td>\n",
       "      <td>31334397</td>\n",
       "      <td>2020-09-09</td>\n",
       "      <td>ffffcf35913a0bee60e8741cb2b4e78b8a98ee5ff2e6a1...</td>\n",
       "      <td>762846031</td>\n",
       "      <td>0.024715</td>\n",
       "      <td>1</td>\n",
       "      <td>103</td>\n",
       "      <td>0.0</td>\n",
       "      <td>12.0</td>\n",
       "      <td>...</td>\n",
       "      <td>1010</td>\n",
       "      <td>6</td>\n",
       "      <td>492</td>\n",
       "      <td>1371977</td>\n",
       "      <td>1</td>\n",
       "      <td>1</td>\n",
       "      <td>0</td>\n",
       "      <td>1</td>\n",
       "      <td>21</td>\n",
       "      <td>106737</td>\n",
       "    </tr>\n",
       "  </tbody>\n",
       "</table>\n",
       "<p>10205052 rows × 42 columns</p>\n",
       "</div>"
      ],
      "text/plain": [
       "          Unnamed: 0  Unnamed: 0_x       t_dat  \\\n",
       "0                  0      29314980  2020-07-22   \n",
       "1                  1      29314981  2020-07-22   \n",
       "2                  2      29314982  2020-07-22   \n",
       "3                  3      29314983  2020-07-22   \n",
       "4                  4      29314980  2020-07-22   \n",
       "...              ...           ...         ...   \n",
       "10205047    10205047      31334397  2020-09-09   \n",
       "10205048    10205048      31334397  2020-09-09   \n",
       "10205049    10205049      31334397  2020-09-09   \n",
       "10205050    10205050      31334397  2020-09-09   \n",
       "10205051    10205051      31334397  2020-09-09   \n",
       "\n",
       "                                                customer_id  article_id  \\\n",
       "0         0000c97821eb48d0e590fd309133f0a6c08f7750f64ccc...   778064038   \n",
       "1         0000c97821eb48d0e590fd309133f0a6c08f7750f64ccc...   817166007   \n",
       "2         0000c97821eb48d0e590fd309133f0a6c08f7750f64ccc...   840360002   \n",
       "3         0000c97821eb48d0e590fd309133f0a6c08f7750f64ccc...   817166003   \n",
       "4         0000c97821eb48d0e590fd309133f0a6c08f7750f64ccc...   760084003   \n",
       "...                                                     ...         ...   \n",
       "10205047  ffffcf35913a0bee60e8741cb2b4e78b8a98ee5ff2e6a1...   863595006   \n",
       "10205048  ffffcf35913a0bee60e8741cb2b4e78b8a98ee5ff2e6a1...   896152002   \n",
       "10205049  ffffcf35913a0bee60e8741cb2b4e78b8a98ee5ff2e6a1...   448509014   \n",
       "10205050  ffffcf35913a0bee60e8741cb2b4e78b8a98ee5ff2e6a1...   909916001   \n",
       "10205051  ffffcf35913a0bee60e8741cb2b4e78b8a98ee5ff2e6a1...   762846031   \n",
       "\n",
       "             price  sales_channel_id  week  purchased  bestseller_rank  ...  \\\n",
       "0         0.008458                 2    96        1.0            999.0  ...   \n",
       "1         0.006763                 2    96        1.0            999.0  ...   \n",
       "2         0.008458                 2    96        1.0            999.0  ...   \n",
       "3         0.008458                 2    96        1.0            999.0  ...   \n",
       "4         0.025094                 2    96        0.0              1.0  ...   \n",
       "...            ...               ...   ...        ...              ...  ...   \n",
       "10205047  0.033025                 1   103        0.0              8.0  ...   \n",
       "10205048  0.033064                 1   103        0.0              9.0  ...   \n",
       "10205049  0.041407                 1   103        0.0             10.0  ...   \n",
       "10205050  0.033403                 1   103        0.0             11.0  ...   \n",
       "10205051  0.024715                 1   103        0.0             12.0  ...   \n",
       "\n",
       "          garment_group_no  garment_group_name  detail_desc  Unnamed: 0.1  FN  \\\n",
       "0                     1002                   2          309            18  -1   \n",
       "1                     1005                   0         4647            18  -1   \n",
       "2                     1005                   0         3324            18  -1   \n",
       "3                     1005                   0         4647            18  -1   \n",
       "4                     1009                   5          847            18  -1   \n",
       "...                    ...                 ...          ...           ...  ..   \n",
       "10205047              1003                   3         1496       1371977   1   \n",
       "10205048              1003                   3         9447       1371977   1   \n",
       "10205049              1009                   5          255       1371977   1   \n",
       "10205050              1017                   4        12143       1371977   1   \n",
       "10205051              1010                   6          492       1371977   1   \n",
       "\n",
       "          Active  club_member_status  fashion_news_frequency  age  postal_code  \n",
       "0             -1                   0                       0   49        40775  \n",
       "1             -1                   0                       0   49        40775  \n",
       "2             -1                   0                       0   49        40775  \n",
       "3             -1                   0                       0   49        40775  \n",
       "4             -1                   0                       0   49        40775  \n",
       "...          ...                 ...                     ...  ...          ...  \n",
       "10205047       1                   0                       1   21       106737  \n",
       "10205048       1                   0                       1   21       106737  \n",
       "10205049       1                   0                       1   21       106737  \n",
       "10205050       1                   0                       1   21       106737  \n",
       "10205051       1                   0                       1   21       106737  \n",
       "\n",
       "[10205052 rows x 42 columns]"
      ]
     },
     "execution_count": 5,
     "metadata": {},
     "output_type": "execute_result"
    }
   ],
   "source": [
    "train_dataset = read_csv_into_df(\"train.csv\")\n",
    "train_dataset"
   ]
  },
  {
   "cell_type": "code",
   "execution_count": 6,
   "metadata": {},
   "outputs": [
    {
     "data": {
      "text/plain": [
       "Index(['Unnamed: 0', 'Unnamed: 0_x', 't_dat', 'customer_id', 'article_id',\n",
       "       'price', 'sales_channel_id', 'week', 'purchased', 'bestseller_rank',\n",
       "       'Unnamed: 0_y', 'product_code', 'prod_name', 'product_type_no',\n",
       "       'product_type_name', 'product_group_name', 'graphical_appearance_no',\n",
       "       'graphical_appearance_name', 'colour_group_code', 'colour_group_name',\n",
       "       'perceived_colour_value_id', 'perceived_colour_value_name',\n",
       "       'perceived_colour_master_id', 'perceived_colour_master_name',\n",
       "       'department_no', 'department_name', 'index_code', 'index_name',\n",
       "       'index_group_no', 'index_group_name', 'section_no', 'section_name',\n",
       "       'garment_group_no', 'garment_group_name', 'detail_desc', 'Unnamed: 0.1',\n",
       "       'FN', 'Active', 'club_member_status', 'fashion_news_frequency', 'age',\n",
       "       'postal_code'],\n",
       "      dtype='object')"
      ]
     },
     "execution_count": 6,
     "metadata": {},
     "output_type": "execute_result"
    }
   ],
   "source": [
    "train_dataset.keys()"
   ]
  },
  {
   "cell_type": "code",
   "execution_count": 36,
   "metadata": {},
   "outputs": [],
   "source": [
    "#train_dataset.isna().sum()\n",
    "#data = origin_data.drop(columns=['xxx', 'xxx'])\n",
    "train_dataset = train_dataset.drop(columns=['Unnamed: 0', 'Unnamed: 0_x', 'Unnamed: 0_y','Unnamed: 0.1','t_dat'])"
   ]
  },
  {
   "cell_type": "code",
   "execution_count": 24,
   "metadata": {},
   "outputs": [
    {
     "data": {
      "text/plain": [
       "(10205052, 38)"
      ]
     },
     "execution_count": 24,
     "metadata": {},
     "output_type": "execute_result"
    }
   ],
   "source": [
    "train_dataset.shape"
   ]
  },
  {
   "cell_type": "code",
   "execution_count": 25,
   "metadata": {},
   "outputs": [],
   "source": [
    "valid_dataset = read_csv_into_df(\"validate.csv\")"
   ]
  },
  {
   "cell_type": "code",
   "execution_count": 26,
   "metadata": {},
   "outputs": [
    {
     "data": {
      "text/plain": [
       "(6750713, 42)"
      ]
     },
     "execution_count": 26,
     "metadata": {},
     "output_type": "execute_result"
    }
   ],
   "source": [
    "valid_dataset.shape"
   ]
  },
  {
   "cell_type": "code",
   "execution_count": 27,
   "metadata": {},
   "outputs": [
    {
     "data": {
      "text/html": [
       "<div>\n",
       "<style scoped>\n",
       "    .dataframe tbody tr th:only-of-type {\n",
       "        vertical-align: middle;\n",
       "    }\n",
       "\n",
       "    .dataframe tbody tr th {\n",
       "        vertical-align: top;\n",
       "    }\n",
       "\n",
       "    .dataframe thead th {\n",
       "        text-align: right;\n",
       "    }\n",
       "</style>\n",
       "<table border=\"1\" class=\"dataframe\">\n",
       "  <thead>\n",
       "    <tr style=\"text-align: right;\">\n",
       "      <th></th>\n",
       "      <th>Unnamed: 0</th>\n",
       "      <th>Unnamed: 0_x</th>\n",
       "      <th>t_dat</th>\n",
       "      <th>customer_id</th>\n",
       "      <th>article_id</th>\n",
       "      <th>price</th>\n",
       "      <th>sales_channel_id</th>\n",
       "      <th>week</th>\n",
       "      <th>purchased</th>\n",
       "      <th>bestseller_rank</th>\n",
       "      <th>...</th>\n",
       "      <th>garment_group_no</th>\n",
       "      <th>garment_group_name</th>\n",
       "      <th>detail_desc</th>\n",
       "      <th>Unnamed: 0.1</th>\n",
       "      <th>FN</th>\n",
       "      <th>Active</th>\n",
       "      <th>club_member_status</th>\n",
       "      <th>fashion_news_frequency</th>\n",
       "      <th>age</th>\n",
       "      <th>postal_code</th>\n",
       "    </tr>\n",
       "  </thead>\n",
       "  <tbody>\n",
       "    <tr>\n",
       "      <th>0</th>\n",
       "      <td>10205052</td>\n",
       "      <td>31140481</td>\n",
       "      <td>2020-09-05</td>\n",
       "      <td>00000dbacae5abe5e23885899a1fa44253a17956c6d1c3...</td>\n",
       "      <td>568601043</td>\n",
       "      <td>0.050831</td>\n",
       "      <td>1</td>\n",
       "      <td>104</td>\n",
       "      <td>0.0</td>\n",
       "      <td>999.0</td>\n",
       "      <td>...</td>\n",
       "      <td>1008</td>\n",
       "      <td>20</td>\n",
       "      <td>188</td>\n",
       "      <td>0</td>\n",
       "      <td>-1</td>\n",
       "      <td>-1</td>\n",
       "      <td>0</td>\n",
       "      <td>0</td>\n",
       "      <td>49</td>\n",
       "      <td>6305</td>\n",
       "    </tr>\n",
       "    <tr>\n",
       "      <th>1</th>\n",
       "      <td>10205053</td>\n",
       "      <td>31140481</td>\n",
       "      <td>2020-09-05</td>\n",
       "      <td>00000dbacae5abe5e23885899a1fa44253a17956c6d1c3...</td>\n",
       "      <td>909370001</td>\n",
       "      <td>0.032947</td>\n",
       "      <td>1</td>\n",
       "      <td>104</td>\n",
       "      <td>0.0</td>\n",
       "      <td>1.0</td>\n",
       "      <td>...</td>\n",
       "      <td>1023</td>\n",
       "      <td>19</td>\n",
       "      <td>28617</td>\n",
       "      <td>0</td>\n",
       "      <td>-1</td>\n",
       "      <td>-1</td>\n",
       "      <td>0</td>\n",
       "      <td>0</td>\n",
       "      <td>49</td>\n",
       "      <td>6305</td>\n",
       "    </tr>\n",
       "    <tr>\n",
       "      <th>2</th>\n",
       "      <td>10205054</td>\n",
       "      <td>31140481</td>\n",
       "      <td>2020-09-05</td>\n",
       "      <td>00000dbacae5abe5e23885899a1fa44253a17956c6d1c3...</td>\n",
       "      <td>865799006</td>\n",
       "      <td>0.033340</td>\n",
       "      <td>1</td>\n",
       "      <td>104</td>\n",
       "      <td>0.0</td>\n",
       "      <td>2.0</td>\n",
       "      <td>...</td>\n",
       "      <td>1009</td>\n",
       "      <td>5</td>\n",
       "      <td>2971</td>\n",
       "      <td>0</td>\n",
       "      <td>-1</td>\n",
       "      <td>-1</td>\n",
       "      <td>0</td>\n",
       "      <td>0</td>\n",
       "      <td>49</td>\n",
       "      <td>6305</td>\n",
       "    </tr>\n",
       "    <tr>\n",
       "      <th>3</th>\n",
       "      <td>10205055</td>\n",
       "      <td>31140481</td>\n",
       "      <td>2020-09-05</td>\n",
       "      <td>00000dbacae5abe5e23885899a1fa44253a17956c6d1c3...</td>\n",
       "      <td>918522001</td>\n",
       "      <td>0.041416</td>\n",
       "      <td>1</td>\n",
       "      <td>104</td>\n",
       "      <td>0.0</td>\n",
       "      <td>3.0</td>\n",
       "      <td>...</td>\n",
       "      <td>1003</td>\n",
       "      <td>3</td>\n",
       "      <td>28633</td>\n",
       "      <td>0</td>\n",
       "      <td>-1</td>\n",
       "      <td>-1</td>\n",
       "      <td>0</td>\n",
       "      <td>0</td>\n",
       "      <td>49</td>\n",
       "      <td>6305</td>\n",
       "    </tr>\n",
       "    <tr>\n",
       "      <th>4</th>\n",
       "      <td>10205056</td>\n",
       "      <td>31140481</td>\n",
       "      <td>2020-09-05</td>\n",
       "      <td>00000dbacae5abe5e23885899a1fa44253a17956c6d1c3...</td>\n",
       "      <td>924243001</td>\n",
       "      <td>0.041549</td>\n",
       "      <td>1</td>\n",
       "      <td>104</td>\n",
       "      <td>0.0</td>\n",
       "      <td>4.0</td>\n",
       "      <td>...</td>\n",
       "      <td>1003</td>\n",
       "      <td>3</td>\n",
       "      <td>13007</td>\n",
       "      <td>0</td>\n",
       "      <td>-1</td>\n",
       "      <td>-1</td>\n",
       "      <td>0</td>\n",
       "      <td>0</td>\n",
       "      <td>49</td>\n",
       "      <td>6305</td>\n",
       "    </tr>\n",
       "  </tbody>\n",
       "</table>\n",
       "<p>5 rows × 42 columns</p>\n",
       "</div>"
      ],
      "text/plain": [
       "   Unnamed: 0  Unnamed: 0_x       t_dat  \\\n",
       "0    10205052      31140481  2020-09-05   \n",
       "1    10205053      31140481  2020-09-05   \n",
       "2    10205054      31140481  2020-09-05   \n",
       "3    10205055      31140481  2020-09-05   \n",
       "4    10205056      31140481  2020-09-05   \n",
       "\n",
       "                                         customer_id  article_id     price  \\\n",
       "0  00000dbacae5abe5e23885899a1fa44253a17956c6d1c3...   568601043  0.050831   \n",
       "1  00000dbacae5abe5e23885899a1fa44253a17956c6d1c3...   909370001  0.032947   \n",
       "2  00000dbacae5abe5e23885899a1fa44253a17956c6d1c3...   865799006  0.033340   \n",
       "3  00000dbacae5abe5e23885899a1fa44253a17956c6d1c3...   918522001  0.041416   \n",
       "4  00000dbacae5abe5e23885899a1fa44253a17956c6d1c3...   924243001  0.041549   \n",
       "\n",
       "   sales_channel_id  week  purchased  bestseller_rank  ...  garment_group_no  \\\n",
       "0                 1   104        0.0            999.0  ...              1008   \n",
       "1                 1   104        0.0              1.0  ...              1023   \n",
       "2                 1   104        0.0              2.0  ...              1009   \n",
       "3                 1   104        0.0              3.0  ...              1003   \n",
       "4                 1   104        0.0              4.0  ...              1003   \n",
       "\n",
       "   garment_group_name  detail_desc  Unnamed: 0.1  FN  Active  \\\n",
       "0                  20          188             0  -1      -1   \n",
       "1                  19        28617             0  -1      -1   \n",
       "2                   5         2971             0  -1      -1   \n",
       "3                   3        28633             0  -1      -1   \n",
       "4                   3        13007             0  -1      -1   \n",
       "\n",
       "   club_member_status  fashion_news_frequency  age  postal_code  \n",
       "0                   0                       0   49         6305  \n",
       "1                   0                       0   49         6305  \n",
       "2                   0                       0   49         6305  \n",
       "3                   0                       0   49         6305  \n",
       "4                   0                       0   49         6305  \n",
       "\n",
       "[5 rows x 42 columns]"
      ]
     },
     "execution_count": 27,
     "metadata": {},
     "output_type": "execute_result"
    }
   ],
   "source": [
    "valid_dataset.head()"
   ]
  },
  {
   "cell_type": "code",
   "execution_count": 28,
   "metadata": {},
   "outputs": [],
   "source": [
    "valid_dataset = valid_dataset.drop(columns=['Unnamed: 0', 'Unnamed: 0_x', 'Unnamed: 0_y','Unnamed: 0.1'])"
   ]
  },
  {
   "cell_type": "code",
   "execution_count": 43,
   "metadata": {},
   "outputs": [],
   "source": [
    "train_dataset = train_dataset.drop(columns=['customer_id'])\n",
    "valid_dataset = valid_dataset.drop(columns=['customer_id'])"
   ]
  },
  {
   "cell_type": "code",
   "execution_count": 51,
   "metadata": {},
   "outputs": [],
   "source": [
    "x = train_dataset.loc[:, train_dataset.columns != 'purchased']\n",
    "y = train_dataset[\"purchased\"]\n",
    "x_train,x_test,y_train,y_test=train_test_split(x,y,test_size=0.2)"
   ]
  },
  {
   "cell_type": "code",
   "execution_count": 48,
   "metadata": {},
   "outputs": [
    {
     "data": {
      "text/plain": [
       "(8164041, 35)"
      ]
     },
     "execution_count": 48,
     "metadata": {},
     "output_type": "execute_result"
    }
   ],
   "source": [
    "x_train.shape"
   ]
  },
  {
   "cell_type": "code",
   "execution_count": 49,
   "metadata": {},
   "outputs": [
    {
     "data": {
      "text/plain": [
       "(8164041,)"
      ]
     },
     "execution_count": 49,
     "metadata": {},
     "output_type": "execute_result"
    }
   ],
   "source": [
    "y_train.shape"
   ]
  },
  {
   "cell_type": "code",
   "execution_count": 55,
   "metadata": {},
   "outputs": [
    {
     "data": {
      "text/plain": [
       "(2041011, 35)"
      ]
     },
     "execution_count": 55,
     "metadata": {},
     "output_type": "execute_result"
    }
   ],
   "source": [
    "x_test.shape"
   ]
  },
  {
   "cell_type": "code",
   "execution_count": 56,
   "metadata": {},
   "outputs": [
    {
     "data": {
      "text/plain": [
       "(2041011,)"
      ]
     },
     "execution_count": 56,
     "metadata": {},
     "output_type": "execute_result"
    }
   ],
   "source": [
    "y_test.shape"
   ]
  },
  {
   "cell_type": "code",
   "execution_count": 45,
   "metadata": {},
   "outputs": [
    {
     "data": {
      "text/plain": [
       "article_id                        int64\n",
       "price                           float64\n",
       "sales_channel_id                  int64\n",
       "week                              int64\n",
       "bestseller_rank                 float64\n",
       "product_code                      int64\n",
       "prod_name                         int64\n",
       "product_type_no                   int64\n",
       "product_type_name                 int64\n",
       "product_group_name                int64\n",
       "graphical_appearance_no           int64\n",
       "graphical_appearance_name         int64\n",
       "colour_group_code                 int64\n",
       "colour_group_name                 int64\n",
       "perceived_colour_value_id         int64\n",
       "perceived_colour_value_name       int64\n",
       "perceived_colour_master_id        int64\n",
       "perceived_colour_master_name      int64\n",
       "department_no                     int64\n",
       "department_name                   int64\n",
       "index_code                        int64\n",
       "index_name                        int64\n",
       "index_group_no                    int64\n",
       "index_group_name                  int64\n",
       "section_no                        int64\n",
       "section_name                      int64\n",
       "garment_group_no                  int64\n",
       "garment_group_name                int64\n",
       "detail_desc                       int64\n",
       "FN                                int64\n",
       "Active                            int64\n",
       "club_member_status                int64\n",
       "fashion_news_frequency            int64\n",
       "age                               int64\n",
       "postal_code                       int64\n",
       "dtype: object"
      ]
     },
     "execution_count": 45,
     "metadata": {},
     "output_type": "execute_result"
    }
   ],
   "source": [
    "x_train.dtypes"
   ]
  },
  {
   "cell_type": "code",
   "execution_count": 46,
   "metadata": {},
   "outputs": [],
   "source": [
    "#x_train = train_dataset.drop(columns=['customer_id'])"
   ]
  },
  {
   "cell_type": "code",
   "execution_count": 57,
   "metadata": {},
   "outputs": [
    {
     "name": "stdout",
     "output_type": "stream",
     "text": [
      "Warning: Maximum number of iterations has been exceeded.\n",
      "         Current function value: 0.191369\n",
      "         Iterations: 35\n"
     ]
    },
    {
     "name": "stderr",
     "output_type": "stream",
     "text": [
      "/Users/lisimanhua/opt/anaconda3/lib/python3.8/site-packages/statsmodels/base/model.py:566: ConvergenceWarning: Maximum Likelihood optimization failed to converge. Check mle_retvals\n",
      "  warnings.warn(\"Maximum Likelihood optimization failed to \"\n"
     ]
    },
    {
     "name": "stdout",
     "output_type": "stream",
     "text": [
      "                                Results: Logit\n",
      "===============================================================================\n",
      "Model:                  Logit                Pseudo R-squared:     0.614       \n",
      "Dependent Variable:     purchased            AIC:                  3124759.4291\n",
      "Date:                   2022-05-06 18:45     BIC:                  3125232.5476\n",
      "No. Observations:       8164041              Log-Likelihood:       -1.5623e+06 \n",
      "Df Model:               33                   LL-Null:              -4.0472e+06 \n",
      "Df Residuals:           8164007              LLR p-value:          0.0000      \n",
      "Converged:              0.0000               Scale:                1.0000      \n",
      "No. Iterations:         35.0000                                                \n",
      "-------------------------------------------------------------------------------\n",
      "                              Coef.  Std.Err.     z      P>|z|   [0.025  0.975]\n",
      "-------------------------------------------------------------------------------\n",
      "article_id                   -0.0009      nan        nan    nan     nan     nan\n",
      "price                        10.2393   0.2705    37.8553 0.0000  9.7091 10.7694\n",
      "sales_channel_id              0.0607   0.0033    18.2332 0.0000  0.0542  0.0672\n",
      "week                         -0.1520   0.0007  -208.5669 0.0000 -0.1535 -0.1506\n",
      "bestseller_rank               0.0065   0.0000   947.5285 0.0000  0.0064  0.0065\n",
      "product_code                  0.9300   0.1206     7.7145 0.0000  0.6937  1.1663\n",
      "prod_name                     0.0000   0.0000     3.6162 0.0003  0.0000  0.0000\n",
      "product_type_no               0.0002   0.0000     8.5653 0.0000  0.0001  0.0002\n",
      "product_type_name             0.0016   0.0001    13.3753 0.0000  0.0014  0.0019\n",
      "product_group_name           -0.0335   0.0013   -26.0919 0.0000 -0.0360 -0.0310\n",
      "graphical_appearance_no       0.0000      nan        nan    nan     nan     nan\n",
      "graphical_appearance_name    -0.0004   0.0003    -1.2572 0.2087 -0.0011  0.0002\n",
      "colour_group_code            -0.0007   0.0001   -11.1553 0.0000 -0.0008 -0.0006\n",
      "colour_group_name             0.0006   0.0003     2.4659 0.0137  0.0001  0.0011\n",
      "perceived_colour_value_id    -0.0028   0.0011    -2.5581 0.0105 -0.0049 -0.0007\n",
      "perceived_colour_value_name  -0.0282   0.0012   -23.0975 0.0000 -0.0306 -0.0258\n",
      "perceived_colour_master_id   -0.0021   0.0003    -6.5267 0.0000 -0.0028 -0.0015\n",
      "perceived_colour_master_name -0.0017   0.0005    -3.1676 0.0015 -0.0028 -0.0006\n",
      "department_no                 0.0000   0.0000     7.0422 0.0000  0.0000  0.0000\n",
      "department_name               0.0012   0.0000    31.2290 0.0000  0.0011  0.0013\n",
      "index_code                   -2.4618      nan        nan    nan     nan     nan\n",
      "index_name                    2.4715      nan        nan    nan     nan     nan\n",
      "index_group_no               -0.0047   0.0007    -6.4934 0.0000 -0.0061 -0.0033\n",
      "index_group_name             -0.0126   0.0024    -5.2434 0.0000 -0.0173 -0.0079\n",
      "section_no                    0.0020   0.0001    15.3801 0.0000  0.0018  0.0023\n",
      "section_name                 -0.0016   0.0001   -12.1473 0.0000 -0.0019 -0.0014\n",
      "garment_group_no             -0.0092   0.0003   -34.7611 0.0000 -0.0097 -0.0087\n",
      "garment_group_name           -0.0124   0.0000 -1043.1203 0.0000 -0.0124 -0.0124\n",
      "detail_desc                  -0.0000   0.0000   -29.7404 0.0000 -0.0000 -0.0000\n",
      "FN                           -0.0873   0.0112    -7.7980 0.0000 -0.1093 -0.0654\n",
      "Active                       -0.0453   0.0089    -5.1085 0.0000 -0.0626 -0.0279\n",
      "club_member_status            0.4210   0.0130    32.2725 0.0000  0.3954  0.4465\n",
      "fashion_news_frequency        0.1156   0.0140     8.2468 0.0000  0.0881  0.1431\n",
      "age                          -0.0022   0.0001   -20.7370 0.0000 -0.0024 -0.0020\n",
      "postal_code                   0.0000   0.0000     2.5496 0.0108  0.0000  0.0000\n",
      "===============================================================================\n",
      "\n"
     ]
    }
   ],
   "source": [
    "logit_model=sm.Logit(y_train,x_train)\n",
    "#warnings.filterwarnings('ignore')\n",
    "result=logit_model.fit()\n",
    "print(result.summary2())"
   ]
  },
  {
   "cell_type": "code",
   "execution_count": 59,
   "metadata": {},
   "outputs": [],
   "source": [
    "train_dataset = train_dataset.drop(columns=['article_id','graphical_appearance_no','index_code','index_name'])\n",
    "valid_dataset = valid_dataset.drop(columns=['article_id','graphical_appearance_no','index_code','index_name'])"
   ]
  },
  {
   "cell_type": "code",
   "execution_count": 60,
   "metadata": {},
   "outputs": [],
   "source": [
    "x = train_dataset.loc[:, train_dataset.columns != 'purchased']\n",
    "y = train_dataset[\"purchased\"]\n",
    "x_train,x_test,y_train,y_test=train_test_split(x,y,test_size=0.2)"
   ]
  },
  {
   "cell_type": "code",
   "execution_count": 61,
   "metadata": {},
   "outputs": [
    {
     "name": "stdout",
     "output_type": "stream",
     "text": [
      "Optimization terminated successfully.\n",
      "         Current function value: 0.191515\n",
      "         Iterations 9\n",
      "                                Results: Logit\n",
      "==============================================================================\n",
      "Model:                   Logit               Pseudo R-squared:    0.614       \n",
      "Dependent Variable:      purchased           AIC:                 3127126.9594\n",
      "Date:                    2022-05-06 18:50    BIC:                 3127558.3321\n",
      "No. Observations:        8164041             Log-Likelihood:      -1.5635e+06 \n",
      "Df Model:                30                  LL-Null:             -4.0491e+06 \n",
      "Df Residuals:            8164010             LLR p-value:         0.0000      \n",
      "Converged:               1.0000              Scale:               1.0000      \n",
      "No. Iterations:          9.0000                                               \n",
      "------------------------------------------------------------------------------\n",
      "                              Coef.  Std.Err.     z     P>|z|   [0.025  0.975]\n",
      "------------------------------------------------------------------------------\n",
      "price                        10.2849   0.0962  106.9106 0.0000 10.0963 10.4734\n",
      "sales_channel_id              0.0681   0.0030   22.7239 0.0000  0.0622  0.0740\n",
      "week                         -0.1459   0.0006 -231.5573 0.0000 -0.1472 -0.1447\n",
      "bestseller_rank               0.0064   0.0000  941.9567 0.0000  0.0064  0.0064\n",
      "product_code                  0.0000   0.0000    1.3432 0.1792 -0.0000  0.0000\n",
      "prod_name                     0.0000   0.0000    4.2422 0.0000  0.0000  0.0000\n",
      "product_type_no               0.0003   0.0000   13.1779 0.0000  0.0002  0.0003\n",
      "product_type_name             0.0018   0.0001   14.1294 0.0000  0.0016  0.0021\n",
      "product_group_name           -0.0466   0.0010  -47.0007 0.0000 -0.0485 -0.0446\n",
      "graphical_appearance_name    -0.0008   0.0004   -2.3560 0.0185 -0.0015 -0.0001\n",
      "colour_group_code            -0.0009   0.0001  -13.6071 0.0000 -0.0010 -0.0007\n",
      "colour_group_name             0.0010   0.0003    3.8761 0.0001  0.0005  0.0015\n",
      "perceived_colour_value_id    -0.0015   0.0011   -1.4153 0.1570 -0.0036  0.0006\n",
      "perceived_colour_value_name  -0.0318   0.0012  -26.0424 0.0000 -0.0342 -0.0294\n",
      "perceived_colour_master_id   -0.0017   0.0003   -5.3113 0.0000 -0.0024 -0.0011\n",
      "perceived_colour_master_name -0.0024   0.0005   -4.4835 0.0000 -0.0035 -0.0014\n",
      "department_no                 0.0000   0.0000    4.1608 0.0000  0.0000  0.0000\n",
      "department_name               0.0008   0.0000   23.7349 0.0000  0.0008  0.0009\n",
      "index_group_no               -0.0015   0.0005   -3.1202 0.0018 -0.0024 -0.0006\n",
      "index_group_name             -0.0005   0.0019   -0.2667 0.7897 -0.0043  0.0033\n",
      "section_no                    0.0014   0.0001   15.5209 0.0000  0.0012  0.0016\n",
      "section_name                 -0.0006   0.0001   -4.9844 0.0000 -0.0009 -0.0004\n",
      "garment_group_no              0.0086   0.0001  134.4904 0.0000  0.0084  0.0087\n",
      "garment_group_name           -0.0203   0.0003  -62.2944 0.0000 -0.0210 -0.0197\n",
      "detail_desc                  -0.0000   0.0000  -29.4798 0.0000 -0.0000 -0.0000\n",
      "FN                           -0.0977   0.0112   -8.7419 0.0000 -0.1196 -0.0758\n",
      "Active                       -0.0454   0.0088   -5.1527 0.0000 -0.0627 -0.0281\n",
      "club_member_status            0.4177   0.0131   31.9815 0.0000  0.3921  0.4433\n",
      "fashion_news_frequency        0.1341   0.0141    9.5320 0.0000  0.1066  0.1617\n",
      "age                          -0.0023   0.0001  -21.2599 0.0000 -0.0025 -0.0021\n",
      "postal_code                   0.0000   0.0000    2.0623 0.0392  0.0000  0.0000\n",
      "==============================================================================\n",
      "\n"
     ]
    }
   ],
   "source": [
    "logit_model=sm.Logit(y_train,x_train)\n",
    "#warnings.filterwarnings('ignore')\n",
    "result=logit_model.fit()\n",
    "print(result.summary2())"
   ]
  },
  {
   "cell_type": "code",
   "execution_count": 68,
   "metadata": {},
   "outputs": [],
   "source": [
    "train_dataset = train_dataset.drop(columns=['product_code','perceived_colour_value_id','index_group_name'])\n",
    "valid_dataset = valid_dataset.drop(columns=['product_code','perceived_colour_value_id','index_group_name'])"
   ]
  },
  {
   "cell_type": "code",
   "execution_count": 69,
   "metadata": {},
   "outputs": [],
   "source": [
    "x = train_dataset.loc[:, train_dataset.columns != 'purchased']\n",
    "y = train_dataset[\"purchased\"]\n",
    "x_train,x_test,y_train,y_test=train_test_split(x,y,test_size=0.2)"
   ]
  },
  {
   "cell_type": "code",
   "execution_count": 70,
   "metadata": {},
   "outputs": [
    {
     "name": "stdout",
     "output_type": "stream",
     "text": [
      "Optimization terminated successfully.\n",
      "         Current function value: 0.191447\n",
      "         Iterations 9\n",
      "                                Results: Logit\n",
      "==============================================================================\n",
      "Model:                   Logit               Pseudo R-squared:    0.614       \n",
      "Dependent Variable:      purchased           AIC:                 3126024.6896\n",
      "Date:                    2022-05-06 19:10    BIC:                 3126414.3166\n",
      "No. Observations:        8164041             Log-Likelihood:      -1.5630e+06 \n",
      "Df Model:                27                  LL-Null:             -4.0483e+06 \n",
      "Df Residuals:            8164013             LLR p-value:         0.0000      \n",
      "Converged:               1.0000              Scale:               1.0000      \n",
      "No. Iterations:          9.0000                                               \n",
      "------------------------------------------------------------------------------\n",
      "                              Coef.  Std.Err.     z     P>|z|   [0.025  0.975]\n",
      "------------------------------------------------------------------------------\n",
      "price                        10.3032   0.0953  108.0584 0.0000 10.1163 10.4901\n",
      "sales_channel_id              0.0720   0.0030   24.0912 0.0000  0.0661  0.0778\n",
      "week                         -0.1464   0.0006 -232.4234 0.0000 -0.1477 -0.1452\n",
      "bestseller_rank               0.0064   0.0000  942.4489 0.0000  0.0064  0.0064\n",
      "prod_name                     0.0000   0.0000    4.5462 0.0000  0.0000  0.0000\n",
      "product_type_no               0.0003   0.0000   14.1575 0.0000  0.0003  0.0004\n",
      "product_type_name             0.0018   0.0001   13.8293 0.0000  0.0015  0.0020\n",
      "product_group_name           -0.0464   0.0009  -50.6704 0.0000 -0.0482 -0.0446\n",
      "graphical_appearance_name    -0.0010   0.0004   -2.8188 0.0048 -0.0017 -0.0003\n",
      "colour_group_code            -0.0008   0.0001  -13.2739 0.0000 -0.0010 -0.0007\n",
      "colour_group_name             0.0008   0.0003    3.2090 0.0013  0.0003  0.0013\n",
      "perceived_colour_value_name  -0.0315   0.0012  -25.9947 0.0000 -0.0339 -0.0292\n",
      "perceived_colour_master_id   -0.0014   0.0003   -4.1654 0.0000 -0.0020 -0.0007\n",
      "perceived_colour_master_name -0.0018   0.0005   -3.4535 0.0006 -0.0028 -0.0008\n",
      "department_no                 0.0000   0.0000    4.0325 0.0001  0.0000  0.0000\n",
      "department_name               0.0009   0.0000   25.6609 0.0000  0.0008  0.0010\n",
      "index_group_no               -0.0015   0.0004   -3.7307 0.0002 -0.0023 -0.0007\n",
      "section_no                    0.0013   0.0001   16.7393 0.0000  0.0012  0.0015\n",
      "section_name                 -0.0006   0.0001   -4.8815 0.0000 -0.0009 -0.0004\n",
      "garment_group_no              0.0086   0.0001  136.6616 0.0000  0.0085  0.0087\n",
      "garment_group_name           -0.0206   0.0003  -63.1837 0.0000 -0.0212 -0.0199\n",
      "detail_desc                  -0.0000   0.0000  -29.9188 0.0000 -0.0000 -0.0000\n",
      "FN                           -0.0892   0.0112   -7.9613 0.0000 -0.1111 -0.0672\n",
      "Active                       -0.0518   0.0089   -5.8341 0.0000 -0.0691 -0.0344\n",
      "club_member_status            0.4228   0.0130   32.4419 0.0000  0.3973  0.4484\n",
      "fashion_news_frequency        0.1292   0.0140    9.2246 0.0000  0.1018  0.1567\n",
      "age                          -0.0022   0.0001  -20.3042 0.0000 -0.0024 -0.0020\n",
      "postal_code                   0.0000   0.0000    2.0644 0.0390  0.0000  0.0000\n",
      "==============================================================================\n",
      "\n"
     ]
    }
   ],
   "source": [
    "logit_model=sm.Logit(y_train,x_train)\n",
    "#warnings.filterwarnings('ignore')\n",
    "result=logit_model.fit()\n",
    "print(result.summary2())"
   ]
  },
  {
   "cell_type": "code",
   "execution_count": 71,
   "metadata": {},
   "outputs": [],
   "source": [
    "from sklearn.metrics import accuracy_score\n",
    "logreg = LogisticRegression()\n",
    "logreg.fit(x_train, y_train)\n",
    "y_pred = logreg.predict(x_test)\n",
    "score =accuracy_score(y_test,y_pred)"
   ]
  },
  {
   "cell_type": "code",
   "execution_count": 72,
   "metadata": {},
   "outputs": [
    {
     "name": "stdout",
     "output_type": "stream",
     "text": [
      "0.9075732565870541\n"
     ]
    }
   ],
   "source": [
    "print(score)"
   ]
  },
  {
   "cell_type": "markdown",
   "metadata": {},
   "source": [
    "Model 2"
   ]
  },
  {
   "cell_type": "code",
   "execution_count": 73,
   "metadata": {},
   "outputs": [],
   "source": [
    "from sklearn.datasets import make_classification\n",
    "from sklearn.linear_model import LogisticRegression\n",
    "from sklearn.model_selection import train_test_split\n",
    "from sklearn.pipeline import make_pipeline\n",
    "from sklearn.preprocessing import StandardScaler"
   ]
  },
  {
   "cell_type": "code",
   "execution_count": 74,
   "metadata": {},
   "outputs": [
    {
     "data": {
      "text/plain": [
       "0.9078755577505462"
      ]
     },
     "execution_count": 74,
     "metadata": {},
     "output_type": "execute_result"
    }
   ],
   "source": [
    "pipe = make_pipeline(StandardScaler(), LogisticRegression())\n",
    "pipe.fit(x_train, y_train)\n",
    "pipe.score(x_test, y_test)"
   ]
  }
 ],
 "metadata": {
  "kernelspec": {
   "display_name": "Python 3",
   "language": "python",
   "name": "python3"
  },
  "language_info": {
   "codemirror_mode": {
    "name": "ipython",
    "version": 3
   },
   "file_extension": ".py",
   "mimetype": "text/x-python",
   "name": "python",
   "nbconvert_exporter": "python",
   "pygments_lexer": "ipython3",
   "version": "3.8.5"
  }
 },
 "nbformat": 4,
 "nbformat_minor": 4
}
